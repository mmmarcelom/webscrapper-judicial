{
 "cells": [
  {
   "cell_type": "markdown",
   "metadata": {},
   "source": [
    "# WEBSCRAPPER TRF 1"
   ]
  },
  {
   "cell_type": "markdown",
   "metadata": {},
   "source": [
    "## 1. Configurando o Ambiente"
   ]
  },
  {
   "cell_type": "markdown",
   "metadata": {},
   "source": [
    "Faça download do Chromedriver download  \n",
    "https://googlechromelabs.github.io/chrome-for-testing/#stable\n",
    "\n",
    "Instale as dependencias\n",
    "\n",
    "`` pip install -r requirements.txt `` \n",
    "\n",
    "ou pelo menos  \n",
    "`` pip install selenium `` "
   ]
  },
  {
   "cell_type": "markdown",
   "metadata": {},
   "source": [
    "## 2. Usando o drive\n"
   ]
  },
  {
   "cell_type": "markdown",
   "metadata": {},
   "source": [
    "### INICIANDO O DRIVE\n",
    "\n",
    "````\n",
    "driver = TRF5_Driver(service=s)\n",
    "\n",
    "driver.login(\n",
    "    username=os.environ.get(\"TRF1_login\"), \n",
    "    password=os.environ.get(\"TRF1_password\")\n",
    ")\n",
    "````"
   ]
  },
  {
   "cell_type": "markdown",
   "metadata": {},
   "source": [
    "### MÉTODOS"
   ]
  },
  {
   "cell_type": "markdown",
   "metadata": {},
   "source": [
    "#### IMPLICITLY WAIT  \n",
    "\n",
    "Usar:  \n",
    "`` driver.set_implicitly_wait(seconds) ``  \n",
    "\n",
    "ao invés de:  \n",
    "`` driver.implicitly_wait(seconds) `` \n",
    "\n",
    "Exemplo:  \n",
    "``\n",
    "driver.set_implicitly_wait(60)\n",
    "``"
   ]
  },
  {
   "cell_type": "markdown",
   "metadata": {},
   "source": [
    "#### CONSULTAR PROCESSOS\n",
    "Consulta um processo e retorna um array de números\n",
    "````\n",
    "Espera um objeto com um ou mais desses atributos\n",
    "\n",
    "consulta = {\n",
    "    \"nome\": \"NOME DA PARTE\",\n",
    "    \"numero\": \"0000000-00.2024.4.01.0000\",\n",
    "    \"cpf\": \"000.000.000-00\"\n",
    "}\n",
    "\n",
    "driver.consultar_processo(consulta=consulta, wait_seconds=60)\n",
    "````\n",
    "\n",
    "Retorna \n",
    "`` [\"000.000.000-00\", \"000.000.000-00\"] ``"
   ]
  },
  {
   "cell_type": "markdown",
   "metadata": {},
   "source": [
    "# Exemplo de uso"
   ]
  },
  {
   "cell_type": "code",
   "execution_count": 1,
   "metadata": {},
   "outputs": [],
   "source": [
    "# Declarar a custom class TRF5_webdriver\n",
    "\n",
    "from selenium.webdriver.chrome.service import Service\n",
    "from selenium.webdriver.common.by import By\n",
    "#from selenium.webdriver.chrome.options import Options\n",
    "#from selenium.webdriver.common.alert import Alert\n",
    "#from selenium.webdriver.support.ui import Select\n",
    "\n",
    "from selenium import webdriver\n",
    "from selenium.webdriver.common.by import By\n",
    "\n",
    "class TRF5_Driver(webdriver.Chrome):\n",
    "    \n",
    "    implict_wait_value = 1\n",
    "    loader_css = r\"span#_viewRoot\\:status\\.start[style='display: none;']\"\n",
    "    \n",
    "    def set_implicitly_wait(self, seconds):\n",
    "        self.implict_wait_value = seconds\n",
    "        self.implicitly_wait(seconds)\n",
    "    \n",
    "    # wait loader function\n",
    "    def wait_loader(self, seconds=implict_wait_value):\n",
    "        previous_implicit_wait = self.implict_wait_value\n",
    "        self.implicitly_wait(1)\n",
    "        i = 0\n",
    "        while True:\n",
    "            i+=1\n",
    "            if i > seconds: break\n",
    "            if self.find_elements(By.CSS_SELECTOR, self.loader_css):\n",
    "                self.implicitly_wait(previous_implicit_wait)\n",
    "                return\n",
    "    \n",
    "        self.implicitly_wait(previous_implicit_wait)\n",
    "        raise Exception(\"Elemento nunca carregou\")\n",
    "    \n",
    "    def login(self, username, password):\n",
    "\n",
    "        self.get('https://pje1g.trf1.jus.br/pje')\n",
    "\n",
    "        loginIframe = self.find_element(By.ID, \"ssoFrame\")\n",
    "        self.switch_to.frame(loginIframe)\n",
    "        self.find_element(By.ID, \"username\").send_keys(username)\n",
    "        self.find_element(By.ID, \"password\").send_keys(password)\n",
    "        self.find_element(By.CSS_SELECTOR, \"input[type='submit']\").click()\n",
    "\n",
    "    def consultar_processo(self, consulta, wait_seconds=10):\n",
    "        self.get(\"https://pje1g.trf1.jus.br/pje/Processo/ConsultaProcesso/listView.seam\")\n",
    "        \n",
    "        if 'nome' in consulta.keys():\n",
    "            self.find_element(By.CSS_SELECTOR, r\"#fPP\\:j_id145\\:nomeParte\").send_keys(consulta['nome'])\n",
    "        \n",
    "        if 'cpf' in consulta.keys():\n",
    "            self.find_element(By.CSS_SELECTOR, r\"#fPP\\:dpDec\\:documentoParte\").send_keys(consulta['cpf'])\n",
    "\n",
    "        if 'numero' in consulta.keys():\n",
    "            self.find_element(By.CSS_SELECTOR, r\"#fPP\\:numeroProcesso\\:numeroSequencial\").send_keys(consulta['numero'][0:7])\n",
    "            self.find_element(By.CSS_SELECTOR, r\"#fPP\\:numeroProcesso\\:numeroDigitoVerificador\").send_keys(consulta['numero'][8:10])\n",
    "            self.find_element(By.CSS_SELECTOR, r\"#fPP\\:numeroProcesso\\:Ano\").send_keys(consulta['numero'][11:15])\n",
    "            self.find_element(By.CSS_SELECTOR, r\"#fPP\\:numeroProcesso\\:ramoJustica\").send_keys(consulta['numero'][16])\n",
    "            self.find_element(By.CSS_SELECTOR, r\"#fPP\\:numeroProcesso\\:respectivoTribunal\").send_keys(consulta['numero'][18:20])\n",
    "            self.find_element(By.CSS_SELECTOR, r\"#fPP\\:numeroProcesso\\:NumeroOrgaoJustica\").send_keys(consulta['numero'][21:25])\n",
    "            \n",
    "        self.find_element(By.CSS_SELECTOR, r\"#fPP\\:searchProcessos\").click()\n",
    "        self.wait_loader(seconds=wait_seconds)\n",
    "    \n",
    "        rows = self.find_elements(By.CSS_SELECTOR, r\"#fPP\\:processosTable\\:tb .rich-table-row\")\n",
    "        lawsuits = []\n",
    "        for row in rows:\n",
    "            cells = row.find_elements(By.CLASS_NAME, \"rich-table-cell\")\n",
    "            lawsuits.append({ \"processo\": cells[1].text })\n",
    "        \n",
    "        return lawsuits"
   ]
  },
  {
   "cell_type": "code",
   "execution_count": 2,
   "metadata": {},
   "outputs": [],
   "source": [
    "import os\n",
    "import sys\n",
    "import time\n",
    "from dotenv import load_dotenv\n",
    "load_dotenv()\n",
    "\n",
    "project_path = os.path.dirname(os.path.abspath(sys.argv[0])).replace('.venv\\\\Lib\\\\site-packages', '')\n",
    "chromedriver_path = f'{project_path}/chromedriver.exe'\n",
    "\n",
    "s = Service(chromedriver_path)\n",
    "\n",
    "default_implicitly_wait = 10\n",
    "\n",
    "driver = TRF5_Driver(service=s)\n",
    "driver.set_implicitly_wait(default_implicitly_wait)\n",
    "\n",
    "driver.login(\n",
    "    username=os.environ.get(\"TRF1_login\"), \n",
    "    password=os.environ.get(\"TRF1_password\")\n",
    ")"
   ]
  },
  {
   "cell_type": "code",
   "execution_count": null,
   "metadata": {},
   "outputs": [],
   "source": [
    "consulta = {\n",
    "    \"nome\": \"BERNADETE MARIA SANTOS BASTOS MORAES\",\n",
    "    \"numero\": \"0004879-11.2016.4.01.3400\",\n",
    "    \"cpf\": \"215.288.703-44\"\n",
    "}\n",
    "\n",
    "processos = driver.consultar_processo(consulta=consulta, wait_seconds=120)\n",
    "processos"
   ]
  }
 ],
 "metadata": {
  "kernelspec": {
   "display_name": ".venv",
   "language": "python",
   "name": "python3"
  },
  "language_info": {
   "codemirror_mode": {
    "name": "ipython",
    "version": 3
   },
   "file_extension": ".py",
   "mimetype": "text/x-python",
   "name": "python",
   "nbconvert_exporter": "python",
   "pygments_lexer": "ipython3",
   "version": "3.12.1"
  }
 },
 "nbformat": 4,
 "nbformat_minor": 2
}
