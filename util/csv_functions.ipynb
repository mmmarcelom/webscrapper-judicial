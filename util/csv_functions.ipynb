{
 "cells": [
  {
   "cell_type": "code",
   "execution_count": null,
   "metadata": {},
   "outputs": [],
   "source": [
    "import csv\n",
    "\n",
    "def save(array, output_file, method):\n",
    "    with open(f'{project_path}/{output_file}', method, encoding='UTF-8', newline='') as f:\n",
    "        writer = csv.writer(f, delimiter=';')\n",
    "        for row in array:\n",
    "            writer.writerow(row)\n",
    "\n",
    "def get_list(todo_file, done_file):\n",
    "    todo = []\n",
    "    with open(f'{project_path}/{todo_file}', 'r', encoding='UTF-8') as f:\n",
    "        reader = csv.reader(f, delimiter=';')\n",
    "        for row in reader:\n",
    "            todo.append(row[0])\n",
    "\n",
    "    done = []\n",
    "    with open(f'{project_path}/{done_file}', 'r', encoding='UTF-8') as f:\n",
    "        reader = csv.reader(f, delimiter=';')\n",
    "        for row in reader:\n",
    "            done.append(row[0])\n",
    "\n",
    "    return list(set(todo) - set(done))\n"
   ]
  }
 ],
 "metadata": {
  "language_info": {
   "name": "python"
  }
 },
 "nbformat": 4,
 "nbformat_minor": 2
}
