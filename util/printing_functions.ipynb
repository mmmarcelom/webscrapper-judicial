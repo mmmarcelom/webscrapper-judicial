{
 "cells": [
  {
   "cell_type": "code",
   "execution_count": null,
   "metadata": {},
   "outputs": [],
   "source": [
    "from selenium.webdriver.chrome.service import Service\n",
    "from selenium import webdriver\n",
    "import json\n",
    "\n",
    "chrome_options = webdriver.ChromeOptions()\n",
    "\n",
    "settings = {\n",
    "    \"recentDestinations\": [{\"id\": \"Save as PDF\", \"origin\": \"local\"}],\n",
    "    \"selectedDestinationId\": \"Save as PDF\",\n",
    "    \"version\": 2,\n",
    "    \"isLandscapeEnabled\": True\n",
    "    }\n",
    "    \n",
    "prefs = {'printing.print_preview_sticky_settings.appState': json.dumps(settings)}\n",
    "chrome_options.add_experimental_option('prefs', prefs)\n",
    "chrome_options.add_argument('--kiosk-printing')\n",
    "chrome_options.add_argument('--kiosk-mode')\n",
    "\n",
    "# Specify the name of the PDF file\n",
    "pdf_file_name = \"example_document.pdf\"\n",
    "\n",
    "# Add the argument to save the PDF with the specified file name\n",
    "chrome_options.add_argument('--save-to-pdf=' + pdf_file_name)\n",
    "\n",
    "driver = webdriver.Chrome(service=Service(chromedriver_path), options=chrome_options)\n",
    "\n",
    "driver.get(\"https://pje.jfal.jus.br/pje/Processo/ConsultaDocumento/popupProcessoDocumento.seam?idBin=12662369&cid=12198\")\n",
    "driver.execute_script(\"document.title='{}';window.print();\".format(\"2023.80.00.002.203914\"))\n",
    "time.sleep(5)"
   ]
  }
 ],
 "metadata": {
  "language_info": {
   "name": "python"
  }
 },
 "nbformat": 4,
 "nbformat_minor": 2
}
