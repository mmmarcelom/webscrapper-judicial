{
 "cells": [
  {
   "cell_type": "markdown",
   "metadata": {},
   "source": [
    "#### Certifique-se que instalou o chromedriver na pasta e rode a célula abaixo"
   ]
  },
  {
   "cell_type": "code",
   "execution_count": 1,
   "metadata": {},
   "outputs": [],
   "source": [
    "#!pip install selenium\n",
    "\n",
    "#Chromedriver\n",
    "#https://googlechromelabs.github.io/chrome-for-testing/#stable\n",
    "\n",
    "import time\n",
    "\n",
    "from selenium import webdriver\n",
    "from selenium.webdriver.chrome.service import Service\n",
    "from selenium.webdriver.common.by import By\n",
    "#from selenium.webdriver.common.alert import Alert\n",
    "from selenium.webdriver.support.ui import Select\n",
    "from selenium.webdriver.common.keys import Keys\n",
    "from selenium.webdriver.common.action_chains import ActionChains\n",
    "\n",
    "path_chromedriver='C:/projetos/webscrappers/chromedriver.exe'\n",
    "driver = webdriver.Chrome(service=Service(path_chromedriver))\n",
    "driver.get('https://www2.tjal.jus.br/cpopg/open.do')\n",
    "\n",
    "pagina_consulta = driver.current_window_handle\n",
    "\n",
    "def reset():\n",
    "    paginas = driver.window_handles\n",
    "    for pagina in paginas:\n",
    "        if pagina != pagina_consulta:\n",
    "            driver.switch_to.window(pagina)\n",
    "            driver.close()\n",
    "\n",
    "    driver.switch_to.window(pagina_consulta)"
   ]
  },
  {
   "cell_type": "markdown",
   "metadata": {},
   "source": [
    "#### Após abrir o navegador, rode a célula abaixo"
   ]
  },
  {
   "cell_type": "code",
   "execution_count": 2,
   "metadata": {},
   "outputs": [],
   "source": [
    "def ctrlClick(element):\n",
    "    ActionChains(driver) \\\n",
    "        .key_down(Keys.CONTROL) \\\n",
    "        .click(element) \\\n",
    "        .key_up(Keys.CONTROL) \\\n",
    "        .perform()\n",
    "    \n",
    "def getTeacherByName(name):\n",
    "\n",
    "    select_tipo_busca = Select(driver.find_element(by=By.NAME, value='cbPesquisa'))\n",
    "    filtro_nome = driver.find_element(by=By.ID, value='campo_NMPARTE')\n",
    "\n",
    "    select_tipo_busca.select_by_value('NMPARTE')\n",
    "    time.sleep(0.5)\n",
    "\n",
    "    filtro_nome.clear()\n",
    "    filtro_nome.send_keys(name)\n",
    "    time.sleep(0.5)\n",
    "\n",
    "    botao_consultar = driver.find_element(by=By.ID, value='botaoConsultarProcessos')\n",
    "    ctrlClick(botao_consultar)\n",
    "    time.sleep(2.0)\n",
    "    driver.switch_to.window(driver.window_handles[1])\n",
    "\n",
    "    if len(driver.find_elements(By.CSS_SELECTOR, '.alert + #mensagemRetorno')) == 1:\n",
    "        return False\n",
    "\n",
    "    # Apenas 1 resultado\n",
    "    if len(driver.find_elements(By.CSS_SELECTOR, '.linkPasta.btn.btn-secondary.btn-space#linkPasta')) == 1:\n",
    "        botao_pasta = driver.find_element(by=By.ID, value='linkPasta')\n",
    "        ctrlClick(botao_pasta)\n",
    "        time.sleep(2.0)\n",
    "        driver.switch_to.window(driver.window_handles[2])\n",
    "        return True\n",
    "    \n",
    "    # Apenas 2+ resultados\n",
    "    listagemProcessos = driver.find_element(By.ID, 'listagemDeProcessos').find_elements(By.TAG_NAME, 'li')\n",
    "    if len(listagemProcessos) > 1:\n",
    "        linkPrimeiroProcesso = listagemProcessos[0].find_elements(By.CLASS_NAME, 'linkProcesso')[0]\n",
    "        ctrlClick(linkPrimeiroProcesso)\n",
    "        time.sleep(2.0)\n",
    "        driver.switch_to.window(driver.window_handles[2])\n",
    "        botao_pasta = driver.find_element(by=By.ID, value='linkPasta')\n",
    "        ctrlClick(botao_pasta)\n",
    "        time.sleep(2.0)\n",
    "        driver.switch_to.window(driver.window_handles[3])\n",
    "        return True\n",
    "\n",
    "    # Nenhum resultado\n",
    "    return False\n",
    "\n",
    "def createRegex(name, cpf):\n",
    "    firstName = name.split(' ')[0]\n",
    "    cpf = cpf.replace('#',r'\\d').replace('.',r'\\.')\n",
    "    return fr'{firstName}(?P<antes>[\\w\\W]*)(?P<cpf>{cpf})(?P<depois>[\\w\\W]*)\\n'\n",
    "\n",
    "def getCPFfromQualification(name, cpfAnonimo):\n",
    "    import re\n",
    "\n",
    "    driver.find_element(by=By.ID, value='primeiraPaginaButton').click()\n",
    "    time.sleep(2.0)\n",
    "\n",
    "    document_frame = driver.find_element(by=By.ID, value='documento')\n",
    "    driver.switch_to.frame(document_frame)\n",
    "    time.sleep(2.0)\n",
    "\n",
    "    text = driver.find_element(by=By.ID, value='viewer').text\n",
    "    pattern = re.compile(createRegex(name, cpfAnonimo))\n",
    "\n",
    "    match = pattern.search(text)\n",
    "\n",
    "    if match:\n",
    "        return match.group('cpf')\n",
    "    else:\n",
    "        return 'Não encontrado'\n"
   ]
  },
  {
   "cell_type": "markdown",
   "metadata": {},
   "source": [
    "#### Faça login e acesse a tela de consulta de processos"
   ]
  },
  {
   "cell_type": "code",
   "execution_count": null,
   "metadata": {},
   "outputs": [],
   "source": [
    "# 2@&DixCep$"
   ]
  },
  {
   "cell_type": "markdown",
   "metadata": {},
   "source": [
    "#### TESTES"
   ]
  },
  {
   "cell_type": "code",
   "execution_count": null,
   "metadata": {},
   "outputs": [],
   "source": [
    "# TESTE: 1 resultado\n",
    "name = 'ITALEQUELMA LIMA DE MELO'\n",
    "cpfAnonimo = '###.005.3##-##'\n",
    "getTeacherByName(name)\n",
    "cpf = getCPFfromQualification(name, cpfAnonimo)\n",
    "print(cpf)"
   ]
  },
  {
   "cell_type": "code",
   "execution_count": null,
   "metadata": {},
   "outputs": [],
   "source": [
    "# TESTE: 2+ resultados\n",
    "name = 'MARIA JEANE CORREIA CURVELO CAVALCANTI'\n",
    "cpfAnonimo = '###.008.2##-##'\n",
    "getTeacherByName(name)\n",
    "cpf = getCPFfromQualification(name, cpfAnonimo)\n",
    "print(cpf)"
   ]
  },
  {
   "cell_type": "code",
   "execution_count": null,
   "metadata": {},
   "outputs": [],
   "source": [
    "# TESTE: 0 resultados\n",
    "name = 'ERIVANIA GOMES CARVALHO'\n",
    "getTeacherByName(name)"
   ]
  },
  {
   "cell_type": "code",
   "execution_count": null,
   "metadata": {},
   "outputs": [],
   "source": [
    "# RESET\n",
    "reset()"
   ]
  },
  {
   "cell_type": "markdown",
   "metadata": {},
   "source": [
    "#### INICIO DO LOOP"
   ]
  },
  {
   "cell_type": "code",
   "execution_count": null,
   "metadata": {},
   "outputs": [],
   "source": [
    "script_url = 'https://script.google.com/macros/s/AKfycbzyDcg-KuHK0CksMjJU6F_klpjDSBX3fdg-AFxu3hNPBgaMRGvRd8h0o4NrvU7DayxJ/exec?projeto=consultaTJAL'\n",
    "\n",
    "import requests\n",
    "import json\n",
    "\n",
    "def getNextFromBacklog():\n",
    "    response = requests.get(script_url)\n",
    "\n",
    "    if response.status_code == 200:\n",
    "        return response.json()\n",
    "    else:\n",
    "        print('Error:', response.status_code)\n",
    "\n",
    "def postResultToBacklog(dados):\n",
    "    response = requests.post(script_url, \n",
    "                         data=json.dumps(dados), \n",
    "                         headers={'Content-Type': 'application/json'})\n",
    "    if response.status_code != 200:\n",
    "        print('Error:', response.status_code)\n",
    "\n",
    "while True:\n",
    "    try:\n",
    "        professor = getNextFromBacklog()\n",
    "        name = professor['nome']\n",
    "        cpfAnonimo = professor['cpfAnonimo']\n",
    "        if getTeacherByName(name):\n",
    "            cpf = getCPFfromQualification(name, cpfAnonimo)\n",
    "            reset()\n",
    "            postResultToBacklog({\n",
    "                    'linha': professor['linha'], \n",
    "                    'cpf': cpf, \n",
    "                    'status': 'sucesso'\n",
    "                }\n",
    "            )\n",
    "        else:\n",
    "            reset()\n",
    "            postResultToBacklog({'linha': professor['linha'], 'cpf': 'Não encontrado', 'status': 'erro'})\n",
    "\n",
    "    except Exception as e:\n",
    "        reset()\n",
    "        postResultToBacklog({'linha': professor['linha'], 'cpf': 'erro', 'status': 'erro'})"
   ]
  },
  {
   "cell_type": "code",
   "execution_count": 37,
   "metadata": {},
   "outputs": [],
   "source": [
    "def searchByNumber(numero):\n",
    "    numero_limpo = numero.replace('.','').replace('-','')\n",
    "    filtro_numero = driver.find_element(By.ID, \"numeroDigitoAnoUnificado\")\n",
    "    filtro_numero.clear()\n",
    "    filtro_numero.send_keys(numero_limpo[:13])\n",
    "    \n",
    "    filtro_comarca = driver.find_element(By.ID, \"foroNumeroUnificado\")\n",
    "    filtro_comarca.clear()\n",
    "    filtro_comarca.send_keys(numero_limpo[-4:])\n",
    "    time.sleep(0.5)\n",
    "\n",
    "    botao_consultar = driver.find_element(by=By.ID, value='botaoConsultarProcessos')\n",
    "    ctrlClick(botao_consultar)\n",
    "\n",
    "def get_cover_data():\n",
    "    driver.switch_to.window(driver.window_handles[1])\n",
    "    time.sleep(1)\n",
    "    driver.find_element(by=By.CSS_SELECTOR, value=\".unj-link-collapse\").click()\n",
    "    time.sleep(1)\n",
    "    \n",
    "    numero = driver.find_element(by=By.CSS_SELECTOR, value=\"#numeroProcesso\").text\n",
    "    elements = driver.find_elements(by=By.CSS_SELECTOR, value=\".unj-tag\")\n",
    "    tags = \"\".join([e.text for e in elements])\n",
    "    classe = driver.find_element(by=By.CSS_SELECTOR, value=\"#classeProcesso\").text\n",
    "    assunto = driver.find_element(by=By.CSS_SELECTOR, value=\"#assuntoProcesso\").text\n",
    "    foro = driver.find_element(by=By.CSS_SELECTOR, value=\"#foroProcesso\").text\n",
    "    vara = driver.find_element(by=By.CSS_SELECTOR, value=\"#varaProcesso\").text\n",
    "    juiz = driver.find_element(by=By.CSS_SELECTOR, value=\"#juizProcesso\").text\n",
    "    distribuicao = driver.find_element(by=By.CSS_SELECTOR, value=\"#dataHoraDistribuicaoProcesso\").text\n",
    "    valor = driver.find_element(by=By.CSS_SELECTOR, value=\"#valorAcaoProcesso\").text\n",
    "    partes = driver.find_elements(by=By.CSS_SELECTOR, value=\".nomeParteEAdvogado\")\n",
    "    ativo = partes[0].text.replace('\\n', '| ').replace(\"  \", \"\").lstrip()\n",
    "    passivo = partes[1].text.replace('\\n', '| ').replace(\"  \", \"\").lstrip()\n",
    "    return [numero, tags, classe, assunto, foro, vara, juiz, distribuicao, valor, ativo, passivo ]\n",
    "\n",
    "reset()"
   ]
  },
  {
   "cell_type": "code",
   "execution_count": 39,
   "metadata": {},
   "outputs": [],
   "source": [
    "project_path = 'C:/projetos/webscrappers/tjal'\n",
    "import csv\n",
    "\n",
    "def save(array, output_file, method):\n",
    "    with open(f'{project_path}/{output_file}', method, encoding='UTF-8', newline='') as f:\n",
    "        writer = csv.writer(f, delimiter=';')\n",
    "        for row in array:\n",
    "            writer.writerow(row)\n",
    "\n",
    "def get_list(todo_file, done_file):\n",
    "    todo = []\n",
    "    with open(f'{project_path}/{todo_file}', 'r', encoding='UTF-8') as f:\n",
    "        reader = csv.reader(f, delimiter=';')\n",
    "        for row in reader:\n",
    "            todo.append(row[0])\n",
    "\n",
    "    done = []\n",
    "    with open(f'{project_path}/{done_file}', 'r', encoding='UTF-8') as f:\n",
    "        reader = csv.reader(f, delimiter=';')\n",
    "        for row in reader:\n",
    "            done.append(row[0])\n",
    "\n",
    "    todo_list = set(todo) - set(done)\n",
    "    \n",
    "    return list(todo_list)\n",
    "\n"
   ]
  },
  {
   "cell_type": "code",
   "execution_count": 42,
   "metadata": {},
   "outputs": [],
   "source": [
    "todo = get_list(\"todo.csv\", \"done.csv\")\n",
    "for numero in todo:\n",
    "    try:\n",
    "        #numero = \"0707348-90.2018.8.02.0058\"\n",
    "        searchByNumber(numero.lstrip())\n",
    "        valores = get_cover_data()\n",
    "        print(valores)\n",
    "        save([valores], 'done.csv', 'a')\n",
    "        reset()\n",
    "    except:\n",
    "        reset()"
   ]
  }
 ],
 "metadata": {
  "kernelspec": {
   "display_name": ".venv",
   "language": "python",
   "name": "python3"
  },
  "language_info": {
   "codemirror_mode": {
    "name": "ipython",
    "version": 3
   },
   "file_extension": ".py",
   "mimetype": "text/x-python",
   "name": "python",
   "nbconvert_exporter": "python",
   "pygments_lexer": "ipython3",
   "version": "3.12.1"
  }
 },
 "nbformat": 4,
 "nbformat_minor": 2
}
